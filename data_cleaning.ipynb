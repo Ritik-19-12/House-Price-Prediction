{
 "cells": [
  {
   "cell_type": "code",
   "execution_count": 1,
   "id": "82d7c41d",
   "metadata": {},
   "outputs": [],
   "source": [
    "# data_cleaning.py\n",
    "import pandas as pd\n",
    "\n",
    "train = pd.read_csv('train.csv')\n",
    "test = pd.read_csv('test.csv')\n",
    "\n"
   ]
  },
  {
   "cell_type": "code",
   "execution_count": 2,
   "id": "1fa19e17",
   "metadata": {},
   "outputs": [],
   "source": [
    "train['Source'] = 'train'\n",
    "test['Source'] = 'test'\n",
    "test['SalePrice'] = None\n",
    "data = pd.concat([train, test], ignore_index=True)"
   ]
  },
  {
   "cell_type": "code",
   "execution_count": 3,
   "id": "6cd18354",
   "metadata": {},
   "outputs": [
    {
     "name": "stderr",
     "output_type": "stream",
     "text": [
      "C:\\Users\\HP\\AppData\\Local\\Temp\\ipykernel_7336\\746217359.py:8: FutureWarning: Downcasting object dtype arrays on .fillna, .ffill, .bfill is deprecated and will change in a future version. Call result.infer_objects(copy=False) instead. To opt-in to the future behavior, set `pd.set_option('future.no_silent_downcasting', True)`\n",
      "  data[col] = data[col].fillna(data[col].mode()[0])\n"
     ]
    }
   ],
   "source": [
    "# Fill missing values\n",
    "num_cols = data.select_dtypes(include=['float64', 'int64']).columns\n",
    "for col in num_cols:\n",
    "    data[col] = data[col].fillna(data[col].median())\n",
    "\n",
    "cat_cols = data.select_dtypes(include='object').columns\n",
    "for col in cat_cols:\n",
    "    data[col] = data[col].fillna(data[col].mode()[0])"
   ]
  },
  {
   "cell_type": "code",
   "execution_count": 4,
   "id": "ad32bf84",
   "metadata": {},
   "outputs": [],
   "source": [
    "# Split back\n",
    "train = data[data['Source'] == 'train'].drop(['Source'], axis=1)\n",
    "test = data[data['Source'] == 'test'].drop(['Source', 'SalePrice'], axis=1)"
   ]
  },
  {
   "cell_type": "code",
   "execution_count": null,
   "id": "302000ee",
   "metadata": {},
   "outputs": [],
   "source": []
  }
 ],
 "metadata": {
  "kernelspec": {
   "display_name": "Python 3",
   "language": "python",
   "name": "python3"
  },
  "language_info": {
   "codemirror_mode": {
    "name": "ipython",
    "version": 3
   },
   "file_extension": ".py",
   "mimetype": "text/x-python",
   "name": "python",
   "nbconvert_exporter": "python",
   "pygments_lexer": "ipython3",
   "version": "3.12.3"
  }
 },
 "nbformat": 4,
 "nbformat_minor": 5
}
